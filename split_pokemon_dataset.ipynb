{
 "cells": [
  {
   "cell_type": "code",
   "execution_count": null,
   "metadata": {},
   "outputs": [],
   "source": [
    "from pathlib import Path\n",
    "\n",
    "import pandas as pd\n",
    "\n",
    "import wandb\n",
    "\n",
    "run = wandb.init(project='pokemon-cards', entity=None, job_type=\"data_split\")\n",
    "\n",
    "raw_data_at = run.use_artifact('pokemon_cards:latest')\n",
    "path = Path(raw_data_at.download())"
   ]
  },
  {
   "cell_type": "code",
   "execution_count": null,
   "metadata": {},
   "outputs": [],
   "source": [
    "SEED = 1\n",
    "original_table = raw_data_at.get(f\"pokemon_table_1k_seed_{SEED}\")\n",
    "original_table_df = pd.DataFrame(data=original_table.data, columns=original_table.columns)"
   ]
  },
  {
   "attachments": {},
   "cell_type": "markdown",
   "metadata": {},
   "source": [
    "## Split by Card Set"
   ]
  },
  {
   "cell_type": "code",
   "execution_count": null,
   "metadata": {},
   "outputs": [],
   "source": [
    "from sklearn.model_selection import StratifiedGroupKFold\n",
    "\n",
    "card_ids = original_table.get_column('id')\n",
    "captions = original_table.get_column('caption')\n",
    "set_names = original_table.get_column('set_name')\n",
    "\n",
    "split_df = pd.DataFrame()\n",
    "split_df['id'] = card_ids\n",
    "split_df['fold'] = -1\n",
    "\n",
    "cv = StratifiedGroupKFold(n_splits=10)\n",
    "for i, (train_idxs, test_idxs) in enumerate(cv.split(card_ids, set_names, set_names)):\n",
    "    split_df.loc[test_idxs, ['fold']] = i"
   ]
  },
  {
   "cell_type": "code",
   "execution_count": null,
   "metadata": {},
   "outputs": [],
   "source": [
    "split_df['split'] = 'train'\n",
    "split_df.loc[split_df.fold == 0, ['split']] = 'test'\n",
    "split_df.loc[split_df.fold == 1, ['split']] = 'valid'\n",
    "del split_df['fold']\n",
    "split_df.split.value_counts()"
   ]
  },
  {
   "cell_type": "code",
   "execution_count": null,
   "metadata": {},
   "outputs": [],
   "source": [
    "joined_df = original_table_df.merge(split_df, on='id', how='left')\n",
    "del joined_df['split_x']\n",
    "joined_df['split'] = joined_df['split_y']\n",
    "del joined_df['split_y']"
   ]
  },
  {
   "cell_type": "code",
   "execution_count": null,
   "metadata": {},
   "outputs": [],
   "source": [
    "processed_data_loc = wandb.Artifact('pokemon_cards_split', type=\"split_data\")\n",
    "join_table = wandb.Table(dataframe=joined_df)\n",
    "processed_data_loc.add(join_table, f\"pokemon_table_1k_data_split_seed_{SEED}\")\n",
    "# join_table = wandb.JoinedTable(original_table, data_split_table, \"id\")"
   ]
  },
  {
   "cell_type": "code",
   "execution_count": null,
   "metadata": {},
   "outputs": [],
   "source": [
    "run.log_artifact(processed_data_loc)\n",
    "run.finish()"
   ]
  }
 ],
 "metadata": {
  "kernelspec": {
   "display_name": "wandb-course-trrCvNNg",
   "language": "python",
   "name": "python3"
  },
  "language_info": {
   "codemirror_mode": {
    "name": "ipython",
    "version": 3
   },
   "file_extension": ".py",
   "mimetype": "text/x-python",
   "name": "python",
   "nbconvert_exporter": "python",
   "pygments_lexer": "ipython3",
   "version": "3.9.16"
  },
  "orig_nbformat": 4
 },
 "nbformat": 4,
 "nbformat_minor": 2
}
