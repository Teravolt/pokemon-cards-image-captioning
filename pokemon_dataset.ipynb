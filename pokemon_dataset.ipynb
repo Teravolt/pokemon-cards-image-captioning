{
 "cells": [
  {
   "attachments": {},
   "cell_type": "markdown",
   "metadata": {},
   "source": [
    "# Create table of Pokemon Cards"
   ]
  },
  {
   "cell_type": "code",
   "execution_count": null,
   "metadata": {},
   "outputs": [],
   "source": [
    "from datasets import load_dataset\n",
    "dataset = load_dataset(\"TheFusion21/PokemonCards\")"
   ]
  },
  {
   "attachments": {},
   "cell_type": "markdown",
   "metadata": {},
   "source": [
    "## Create a 1K sample of the Pokemon Cards dataset"
   ]
  },
  {
   "cell_type": "code",
   "execution_count": null,
   "metadata": {},
   "outputs": [],
   "source": [
    "import numpy as np\n",
    "\n",
    "SEED = 1\n",
    "\n",
    "np.random.seed(SEED)\n",
    "\n",
    "print(f\"Dataset shape: {dataset['train'].shape}\")\n",
    "\n",
    "indices_1k = np.random.choice(dataset['train'].shape[0], size=1000, replace=False)\n",
    "dataset_1k = dataset['train'].select(indices_1k)"
   ]
  },
  {
   "cell_type": "code",
   "execution_count": null,
   "metadata": {},
   "outputs": [],
   "source": [
    "indices_1k.shape"
   ]
  },
  {
   "attachments": {},
   "cell_type": "markdown",
   "metadata": {},
   "source": [
    "## Start up Weights and Biases"
   ]
  },
  {
   "cell_type": "code",
   "execution_count": null,
   "metadata": {},
   "outputs": [],
   "source": [
    "import wandb\n",
    "\n",
    "run = wandb.init(project='pokemon-cards', entity=None, job_type=\"upload\")\n",
    "raw_data_artifact = wandb.Artifact('pokemon_cards', type=\"raw_data\")"
   ]
  },
  {
   "cell_type": "code",
   "execution_count": null,
   "metadata": {},
   "outputs": [],
   "source": [
    "from PIL import Image\n",
    "import requests\n",
    "from pathlib import Path\n",
    "\n",
    "labels = dataset_1k.column_names\n",
    "table = wandb.Table(labels + [\"image\"] + ['split'])\n",
    "\n",
    "for row in dataset_1k:\n",
    "    r = requests.get(row['image_url'], allow_redirects=True)\n",
    "    with open(Path(row['image_url']).name, 'wb') as f:\n",
    "        f.write(r.content)\n",
    "    image = Image.open(Path(row['image_url']).name)\n",
    "    # if row['image_url'] == 'https://images.pokemontcg.io/mcd14/10_hires.png':\n",
    "    #     print(row)\n",
    "    #     raise\n",
    "    table.add_data(\n",
    "        row['id'],\n",
    "        row['image_url'],\n",
    "        row['caption'],\n",
    "        row['name'],\n",
    "        row['hp'],\n",
    "        row['set_name'],\n",
    "        wandb.Image(\n",
    "            image,\n",
    "            caption=row['caption']),\n",
    "        \"None\", # we don't have a dataset split yet\n",
    "        )"
   ]
  },
  {
   "cell_type": "code",
   "execution_count": null,
   "metadata": {},
   "outputs": [],
   "source": [
    "raw_data_artifact.add(table, f\"pokemon_table_1k_seed_{SEED}\")"
   ]
  },
  {
   "cell_type": "code",
   "execution_count": null,
   "metadata": {},
   "outputs": [],
   "source": [
    "run.log_artifact(raw_data_artifact)\n",
    "run.finish()"
   ]
  }
 ],
 "metadata": {
  "kernelspec": {
   "display_name": "wandb-course-trrCvNNg",
   "language": "python",
   "name": "python3"
  },
  "language_info": {
   "codemirror_mode": {
    "name": "ipython",
    "version": 3
   },
   "file_extension": ".py",
   "mimetype": "text/x-python",
   "name": "python",
   "nbconvert_exporter": "python",
   "pygments_lexer": "ipython3",
   "version": "3.9.16"
  },
  "orig_nbformat": 4
 },
 "nbformat": 4,
 "nbformat_minor": 2
}
