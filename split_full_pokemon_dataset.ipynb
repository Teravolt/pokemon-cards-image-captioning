{
 "cells": [
  {
   "cell_type": "code",
   "execution_count": null,
   "metadata": {},
   "outputs": [],
   "source": [
    "from pathlib import Path\n",
    "\n",
    "import pandas as pd\n",
    "\n",
    "import wandb\n",
    "\n",
    "import torch\n",
    "\n",
    "from transformers import VisionEncoderDecoderModel\n",
    "from transformers import AutoTokenizer\n",
    "from transformers import AutoFeatureExtractor\n",
    "\n",
    "# Define model\n",
    "MODEL = VisionEncoderDecoderModel.from_pretrained(\"nlpconnect/vit-gpt2-image-captioning\")\n",
    "DEVICE = torch.device(\"cuda\" if torch.cuda.is_available() else \"cpu\")\n",
    "MODEL.to(DEVICE)\n",
    "\n",
    "# Define image feature extractor and tokenizer\n",
    "FEATURE_EXTRACTOR = AutoFeatureExtractor.from_pretrained(\"nlpconnect/vit-gpt2-image-captioning\")\n",
    "\n",
    "SEED = 1"
   ]
  },
  {
   "cell_type": "code",
   "execution_count": null,
   "metadata": {},
   "outputs": [],
   "source": [
    "run = wandb.init(project='pokemon-cards', entity=None, job_type=\"data_split\")\n",
    "\n",
    "raw_data_at = run.use_artifact('pkthunder/pokemon-cards/pokemon_cards:v2', type='raw_data')\n",
    "path = Path(raw_data_at.download())\n",
    "\n",
    "original_table = raw_data_at.get(f\"pokemon_table_full_seed_{SEED}\")\n",
    "original_table_df = pd.DataFrame(data=original_table.data, columns=original_table.columns)"
   ]
  },
  {
   "cell_type": "code",
   "execution_count": null,
   "metadata": {},
   "outputs": [],
   "source": [
    "from PIL import ImageChops\n",
    "\n",
    "img_sizes = []\n",
    "images_to_check = []\n",
    "for i, row in original_table_df.iterrows():\n",
    "    img_size = row.image.image.size\n",
    "    if img_size not in img_sizes:\n",
    "        img_sizes.append(img_size)\n",
    "        images_to_check.append(row.image.image)\n",
    "\n",
    "blank_card = original_table_df.iloc[11776].image.image\n",
    "if blank_card.mode != \"RGB\":\n",
    "    blank_card = blank_card.convert(mode=\"RGB\")\n",
    "\n",
    "blank_card_features = None\n",
    "with torch.no_grad():\n",
    "    blank_card_features = FEATURE_EXTRACTOR(images=blank_card, return_tensors=\"pt\").pixel_values[0]\n",
    "    blank_card_features = MODEL.encoder(blank_card_features.unsqueeze(0)).pooler_output\n",
    "\n",
    "# blank_card_test = original_table_df.iloc[11777].image.image\n",
    "# if blank_card_test.mode != \"RGB\":\n",
    "#     blank_card_test = blank_card_test.convert(mode=\"RGB\")\n",
    "\n",
    "# actual_card_test = original_table_df.iloc[0].image.image\n",
    "# if actual_card_test.mode != \"RGB\":\n",
    "#     actual_card_test = actual_card_test.convert(mode=\"RGB\")"
   ]
  },
  {
   "cell_type": "code",
   "execution_count": null,
   "metadata": {},
   "outputs": [],
   "source": [
    "# original_table_df.iloc[11776].image.image"
   ]
  },
  {
   "cell_type": "code",
   "execution_count": null,
   "metadata": {},
   "outputs": [],
   "source": [
    "row_ids = []\n",
    "for i, row in original_table_df.iterrows():\n",
    "\n",
    "    card = row.image.image\n",
    "    if card.mode != \"RGB\":\n",
    "        card = card.convert(mode=\"RGB\")\n",
    "\n",
    "    card_features = None\n",
    "    with torch.no_grad():\n",
    "        card_features = FEATURE_EXTRACTOR(images=card, return_tensors=\"pt\").pixel_values[0]\n",
    "        card_features = MODEL.encoder(card_features.unsqueeze(0)).pooler_output\n",
    "\n",
    "    sim = torch.cosine_similarity(blank_card_features, card_features).item()\n",
    "    if sim > 0.95:\n",
    "        row_ids.append((sim, i))"
   ]
  },
  {
   "cell_type": "code",
   "execution_count": null,
   "metadata": {},
   "outputs": [],
   "source": [
    "for sim, idx in row_ids:\n",
    "    original_table_df.iloc[idx].image.image.save(f\"blank-card-{idx}.png\")\n",
    "\n",
    "new_table_df = original_table_df.drop(index=[idx for _, idx in row_ids])\n",
    "new_table_wandb = wandb.Table(dataframe=new_table_df)"
   ]
  },
  {
   "attachments": {},
   "cell_type": "markdown",
   "metadata": {},
   "source": [
    "## Split by Card Set"
   ]
  },
  {
   "cell_type": "code",
   "execution_count": null,
   "metadata": {},
   "outputs": [],
   "source": [
    "from sklearn.model_selection import StratifiedGroupKFold\n",
    "\n",
    "card_ids = new_table_wandb.get_column('id')\n",
    "captions = new_table_wandb.get_column('caption')\n",
    "set_names = new_table_wandb.get_column('set_name')\n",
    "\n",
    "split_df = pd.DataFrame()\n",
    "split_df['id'] = card_ids\n",
    "split_df['fold'] = -1\n",
    "\n",
    "cv = StratifiedGroupKFold(n_splits=10)\n",
    "for i, (train_idxs, test_idxs) in enumerate(cv.split(card_ids, set_names, set_names)):\n",
    "    split_df.loc[test_idxs, ['fold']] = i"
   ]
  },
  {
   "cell_type": "code",
   "execution_count": null,
   "metadata": {},
   "outputs": [],
   "source": [
    "split_df['split'] = 'train'\n",
    "split_df.loc[split_df.fold == 0, ['split']] = 'test'\n",
    "split_df.loc[split_df.fold == 1, ['split']] = 'valid'\n",
    "del split_df['fold']\n",
    "split_df.split.value_counts()"
   ]
  },
  {
   "cell_type": "code",
   "execution_count": null,
   "metadata": {},
   "outputs": [],
   "source": [
    "joined_df = new_table_df.merge(split_df, on='id', how='left')\n",
    "del joined_df['split_x']\n",
    "joined_df['split'] = joined_df['split_y']\n",
    "del joined_df['split_y']"
   ]
  },
  {
   "cell_type": "code",
   "execution_count": null,
   "metadata": {},
   "outputs": [],
   "source": [
    "processed_data_loc = wandb.Artifact('pokemon_cards_split_full', type=\"split_data\")\n",
    "join_table = wandb.Table(dataframe=joined_df)\n",
    "processed_data_loc.add(join_table, f\"pokemon_table_full_data_split_seed_{SEED}\")\n",
    "# join_table = wandb.JoinedTable(original_table, data_split_table, \"id\")"
   ]
  },
  {
   "cell_type": "code",
   "execution_count": null,
   "metadata": {},
   "outputs": [],
   "source": [
    "run.log_artifact(processed_data_loc)\n",
    "run.finish()"
   ]
  }
 ],
 "metadata": {
  "kernelspec": {
   "display_name": "wandb-course-trrCvNNg",
   "language": "python",
   "name": "python3"
  },
  "language_info": {
   "codemirror_mode": {
    "name": "ipython",
    "version": 3
   },
   "file_extension": ".py",
   "mimetype": "text/x-python",
   "name": "python",
   "nbconvert_exporter": "python",
   "pygments_lexer": "ipython3",
   "version": "3.9.16"
  },
  "orig_nbformat": 4
 },
 "nbformat": 4,
 "nbformat_minor": 2
}
